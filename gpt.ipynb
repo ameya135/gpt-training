{
 "cells": [
  {
   "cell_type": "code",
   "execution_count": 1,
   "metadata": {},
   "outputs": [
    {
     "name": "stdout",
     "output_type": "stream",
     "text": [
      "--2023-10-17 00:26:13--  https://raw.githubusercontent.com/karpathy/char-rnn/master/data/tinyshakespeare/input.txt\n",
      "Loaded CA certificate '/etc/ssl/certs/ca-certificates.crt'\n",
      "Resolving raw.githubusercontent.com (raw.githubusercontent.com)... "
     ]
    },
    {
     "name": "stdout",
     "output_type": "stream",
     "text": [
      "2606:50c0:8000::154, 2606:50c0:8001::154, 2606:50c0:8002::154, ...\n",
      "Connecting to raw.githubusercontent.com (raw.githubusercontent.com)|2606:50c0:8000::154|:443... connected.\n",
      "HTTP request sent, awaiting response... 200 OK\n",
      "Length: 1115394 (1.1M) [text/plain]\n",
      "Saving to: ‘input.txt.6’\n",
      "\n",
      "input.txt.6         100%[===================>]   1.06M  --.-KB/s    in 0.07s   \n",
      "\n",
      "2023-10-17 00:26:14 (16.0 MB/s) - ‘input.txt.6’ saved [1115394/1115394]\n",
      "\n"
     ]
    }
   ],
   "source": [
    "!wget https://raw.githubusercontent.com/karpathy/char-rnn/master/data/tinyshakespeare/input.txt"
   ]
  },
  {
   "cell_type": "code",
   "execution_count": 2,
   "metadata": {},
   "outputs": [
    {
     "name": "stdout",
     "output_type": "stream",
     "text": [
      "First Citizen:\n",
      "Before we proceed any further, hear me speak.\n",
      "\n",
      "All:\n",
      "Speak, speak.\n",
      "\n",
      "First Citizen:\n",
      "You are all resolved rather to die than to famish?\n",
      "\n",
      "All:\n",
      "Resolved. resolved.\n",
      "\n",
      "First Citizen:\n",
      "First, you know Caius Marcius is chief enemy to the people.\n",
      "\n",
      "All:\n",
      "We know't, we know't.\n",
      "\n",
      "First Citizen:\n",
      "Let us kill him, and we'll have corn at our own price.\n",
      "Is't a verdict?\n",
      "\n",
      "All:\n",
      "No more talking on't; let it be done: away, away!\n",
      "\n",
      "Second Citizen:\n",
      "One word, good citizens.\n",
      "\n",
      "First Citizen:\n",
      "We are accounted poor citizens, the patricians good.\n",
      "What authority surfeits on would relieve us: if they\n",
      "would yield us but the superfluity, while it were\n",
      "wholesome, we might guess they relieved us humanely;\n",
      "but they think we are too dear: the leanness that\n",
      "afflicts us, the object of our misery, is as an\n",
      "inventory to particularise their abundance; our\n",
      "sufferance is a gain to them Let us revenge this with\n",
      "our pikes, ere we become rakes: for the gods know I\n",
      "speak this in hunger for bread, not in thirst for revenge.\n",
      "\n",
      "\n"
     ]
    }
   ],
   "source": [
    "with open('input.txt', 'r', encoding='utf-8') as f:\n",
    "    text = f.read()\n",
    "print(text[:1000])"
   ]
  },
  {
   "cell_type": "code",
   "execution_count": 3,
   "metadata": {},
   "outputs": [
    {
     "name": "stdout",
     "output_type": "stream",
     "text": [
      "\n",
      " !$&',-.3:;?ABCDEFGHIJKLMNOPQRSTUVWXYZabcdefghijklmnopqrstuvwxyz\n"
     ]
    }
   ],
   "source": [
    "chars = sorted(list(set(text)))\n",
    "vocab_size = len(chars)\n",
    "print(''.join(chars))"
   ]
  },
  {
   "cell_type": "code",
   "execution_count": 4,
   "metadata": {},
   "outputs": [
    {
     "name": "stdout",
     "output_type": "stream",
     "text": [
      "[46, 43, 50, 50, 53, 1, 58, 46, 43, 56, 43]\n",
      "hello there\n"
     ]
    }
   ],
   "source": [
    "stoi = {ch:i for i, ch in enumerate(chars)}\n",
    "itos = {i:ch for i, ch in enumerate(chars)}\n",
    "encoded = lambda s: [stoi[c] for c in s]\n",
    "decoded = lambda l: ''.join([itos[i] for i in l]) # decoder: take a list of integers, output a string\n",
    "print(encoded(\"hello there\"))\n",
    "print(decoded(encoded(\"hello there\")))"
   ]
  },
  {
   "cell_type": "code",
   "execution_count": 5,
   "metadata": {},
   "outputs": [
    {
     "name": "stderr",
     "output_type": "stream",
     "text": [
      "/home/ameya/Documents/LLMs/.venv/lib/python3.11/site-packages/torch/nn/modules/transformer.py:20: UserWarning: Failed to initialize NumPy: No module named 'numpy' (Triggered internally at ../torch/csrc/utils/tensor_numpy.cpp:84.)\n",
      "  device: torch.device = torch.device(torch._C._get_default_device()),  # torch.device('cpu'),\n"
     ]
    },
    {
     "name": "stdout",
     "output_type": "stream",
     "text": [
      "tensor([18, 47, 56, 57, 58,  1, 15, 47, 58, 47, 64, 43, 52, 10,  0, 14, 43, 44,\n",
      "        53, 56, 43,  1, 61, 43,  1, 54, 56, 53, 41, 43, 43, 42,  1, 39, 52, 63,\n",
      "         1, 44, 59, 56, 58, 46, 43, 56,  6,  1, 46, 43, 39, 56,  1, 51, 43,  1,\n",
      "        57, 54, 43, 39, 49,  8,  0,  0, 13, 50, 50, 10,  0, 31, 54, 43, 39, 49,\n",
      "         6,  1, 57, 54, 43, 39, 49,  8,  0,  0, 18, 47, 56, 57, 58,  1, 15, 47,\n",
      "        58, 47, 64, 43, 52, 10,  0, 37, 53, 59,  1, 39, 56, 43,  1, 39, 50, 50,\n",
      "         1, 56, 43, 57, 53, 50, 60, 43, 42,  1, 56, 39, 58, 46, 43, 56,  1, 58,\n",
      "        53,  1, 42, 47, 43,  1, 58, 46, 39, 52,  1, 58, 53,  1, 44, 39, 51, 47,\n",
      "        57, 46, 12,  0,  0, 13, 50, 50, 10,  0, 30, 43, 57, 53, 50, 60, 43, 42,\n",
      "         8,  1, 56, 43, 57, 53, 50, 60, 43, 42,  8,  0,  0, 18, 47, 56, 57, 58,\n",
      "         1, 15, 47, 58, 47, 64, 43, 52, 10,  0, 18, 47, 56, 57, 58,  6,  1, 63,\n",
      "        53, 59,  1, 49, 52, 53, 61,  1, 15, 39, 47, 59, 57,  1, 25, 39, 56, 41,\n",
      "        47, 59, 57,  1, 47, 57,  1, 41, 46, 47, 43, 44,  1, 43, 52, 43, 51, 63,\n",
      "         1, 58, 53,  1, 58, 46, 43,  1, 54, 43, 53, 54, 50, 43,  8,  0,  0, 13,\n",
      "        50, 50, 10,  0, 35, 43,  1, 49, 52, 53, 61,  5, 58,  6,  1, 61, 43,  1,\n",
      "        49, 52, 53, 61,  5, 58,  8,  0,  0, 18, 47, 56, 57, 58,  1, 15, 47, 58,\n",
      "        47, 64, 43, 52, 10,  0, 24, 43, 58,  1, 59, 57,  1, 49, 47, 50, 50,  1,\n",
      "        46, 47, 51,  6,  1, 39, 52, 42,  1, 61, 43,  5, 50, 50,  1, 46, 39, 60,\n",
      "        43,  1, 41, 53, 56, 52,  1, 39, 58,  1, 53, 59, 56,  1, 53, 61, 52,  1,\n",
      "        54, 56, 47, 41, 43,  8,  0, 21, 57,  5, 58,  1, 39,  1, 60, 43, 56, 42,\n",
      "        47, 41, 58, 12,  0,  0, 13, 50, 50, 10,  0, 26, 53,  1, 51, 53, 56, 43,\n",
      "         1, 58, 39, 50, 49, 47, 52, 45,  1, 53, 52,  5, 58, 11,  1, 50, 43, 58,\n",
      "         1, 47, 58,  1, 40, 43,  1, 42, 53, 52, 43, 10,  1, 39, 61, 39, 63,  6,\n",
      "         1, 39, 61, 39, 63,  2,  0,  0, 31, 43, 41, 53, 52, 42,  1, 15, 47, 58,\n",
      "        47, 64, 43, 52, 10,  0, 27, 52, 43,  1, 61, 53, 56, 42,  6,  1, 45, 53,\n",
      "        53, 42,  1, 41, 47, 58, 47, 64, 43, 52, 57,  8,  0,  0, 18, 47, 56, 57,\n",
      "        58,  1, 15, 47, 58, 47, 64, 43, 52, 10,  0, 35, 43,  1, 39, 56, 43,  1,\n",
      "        39, 41, 41, 53, 59, 52, 58, 43, 42,  1, 54, 53, 53, 56,  1, 41, 47, 58,\n",
      "        47, 64, 43, 52, 57,  6,  1, 58, 46, 43,  1, 54, 39, 58, 56, 47, 41, 47,\n",
      "        39, 52, 57,  1, 45, 53, 53, 42,  8,  0, 35, 46, 39, 58,  1, 39, 59, 58,\n",
      "        46, 53, 56, 47, 58, 63,  1, 57, 59, 56, 44, 43, 47, 58, 57,  1, 53, 52,\n",
      "         1, 61, 53, 59, 50, 42,  1, 56, 43, 50, 47, 43, 60, 43,  1, 59, 57, 10,\n",
      "         1, 47, 44,  1, 58, 46, 43, 63,  0, 61, 53, 59, 50, 42,  1, 63, 47, 43,\n",
      "        50, 42,  1, 59, 57,  1, 40, 59, 58,  1, 58, 46, 43,  1, 57, 59, 54, 43,\n",
      "        56, 44, 50, 59, 47, 58, 63,  6,  1, 61, 46, 47, 50, 43,  1, 47, 58,  1,\n",
      "        61, 43, 56, 43,  0, 61, 46, 53, 50, 43, 57, 53, 51, 43,  6,  1, 61, 43,\n",
      "         1, 51, 47, 45, 46, 58,  1, 45, 59, 43, 57, 57,  1, 58, 46, 43, 63,  1,\n",
      "        56, 43, 50, 47, 43, 60, 43, 42,  1, 59, 57,  1, 46, 59, 51, 39, 52, 43,\n",
      "        50, 63, 11,  0, 40, 59, 58,  1, 58, 46, 43, 63,  1, 58, 46, 47, 52, 49,\n",
      "         1, 61, 43,  1, 39, 56, 43,  1, 58, 53, 53,  1, 42, 43, 39, 56, 10,  1,\n",
      "        58, 46, 43,  1, 50, 43, 39, 52, 52, 43, 57, 57,  1, 58, 46, 39, 58,  0,\n",
      "        39, 44, 44, 50, 47, 41, 58, 57,  1, 59, 57,  6,  1, 58, 46, 43,  1, 53,\n",
      "        40, 48, 43, 41, 58,  1, 53, 44,  1, 53, 59, 56,  1, 51, 47, 57, 43, 56,\n",
      "        63,  6,  1, 47, 57,  1, 39, 57,  1, 39, 52,  0, 47, 52, 60, 43, 52, 58,\n",
      "        53, 56, 63,  1, 58, 53,  1, 54, 39, 56, 58, 47, 41, 59, 50, 39, 56, 47,\n",
      "        57, 43,  1, 58, 46, 43, 47, 56,  1, 39, 40, 59, 52, 42, 39, 52, 41, 43,\n",
      "        11,  1, 53, 59, 56,  0, 57, 59, 44, 44, 43, 56, 39, 52, 41, 43,  1, 47,\n",
      "        57,  1, 39,  1, 45, 39, 47, 52,  1, 58, 53,  1, 58, 46, 43, 51,  1, 24,\n",
      "        43, 58,  1, 59, 57,  1, 56, 43, 60, 43, 52, 45, 43,  1, 58, 46, 47, 57,\n",
      "         1, 61, 47, 58, 46,  0, 53, 59, 56,  1, 54, 47, 49, 43, 57,  6,  1, 43,\n",
      "        56, 43,  1, 61, 43,  1, 40, 43, 41, 53, 51, 43,  1, 56, 39, 49, 43, 57,\n",
      "        10,  1, 44, 53, 56,  1, 58, 46, 43,  1, 45, 53, 42, 57,  1, 49, 52, 53,\n",
      "        61,  1, 21,  0, 57, 54, 43, 39, 49,  1, 58, 46, 47, 57,  1, 47, 52,  1,\n",
      "        46, 59, 52, 45, 43, 56,  1, 44, 53, 56,  1, 40, 56, 43, 39, 42,  6,  1,\n",
      "        52, 53, 58,  1, 47, 52,  1, 58, 46, 47, 56, 57, 58,  1, 44, 53, 56,  1,\n",
      "        56, 43, 60, 43, 52, 45, 43,  8,  0,  0])\n"
     ]
    }
   ],
   "source": [
    "import torch\n",
    "tensor_data = torch.tensor(encoded(text), dtype=torch.long)\n",
    "print(tensor_data[:1000])"
   ]
  },
  {
   "cell_type": "code",
   "execution_count": 6,
   "metadata": {},
   "outputs": [
    {
     "name": "stdout",
     "output_type": "stream",
     "text": [
      "tensor([18, 47, 56,  ..., 43, 56, 43]) tensor([12,  0,  0,  ..., 45,  8,  0])\n"
     ]
    }
   ],
   "source": [
    "n = int(0.9*len(tensor_data))\n",
    "train = tensor_data[:n]\n",
    "valid = tensor_data[n:]\n",
    "print(train, valid)\n"
   ]
  },
  {
   "cell_type": "code",
   "execution_count": 7,
   "metadata": {},
   "outputs": [
    {
     "data": {
      "text/plain": [
       "tensor([18, 47, 56, 57, 58,  1, 15, 47])"
      ]
     },
     "execution_count": 7,
     "metadata": {},
     "output_type": "execute_result"
    }
   ],
   "source": [
    "block_size = 8\n",
    "train[:block_size]"
   ]
  },
  {
   "cell_type": "code",
   "execution_count": 8,
   "metadata": {},
   "outputs": [
    {
     "name": "stdout",
     "output_type": "stream",
     "text": [
      "Context:  tensor([18]) Target:  tensor(47)\n",
      "Context:  tensor([18, 47]) Target:  tensor(56)\n",
      "Context:  tensor([18, 47, 56]) Target:  tensor(57)\n",
      "Context:  tensor([18, 47, 56, 57]) Target:  tensor(58)\n",
      "Context:  tensor([18, 47, 56, 57, 58]) Target:  tensor(1)\n",
      "Context:  tensor([18, 47, 56, 57, 58,  1]) Target:  tensor(15)\n",
      "Context:  tensor([18, 47, 56, 57, 58,  1, 15]) Target:  tensor(47)\n",
      "Context:  tensor([18, 47, 56, 57, 58,  1, 15, 47]) Target:  tensor(58)\n"
     ]
    }
   ],
   "source": [
    "x = train[:block_size]\n",
    "y = train[1:block_size+1]\n",
    "for i in range(block_size):\n",
    "    context = x[:i+1]\n",
    "    target = y[i]\n",
    "    print(\"Context: \", context, \"Target: \", target)"
   ]
  },
  {
   "cell_type": "code",
   "execution_count": 9,
   "metadata": {},
   "outputs": [
    {
     "name": "stdout",
     "output_type": "stream",
     "text": [
      "inputs:\n",
      "tensor([[24, 43, 58,  5, 57,  1, 46, 43],\n",
      "        [44, 53, 56,  1, 58, 46, 39, 58],\n",
      "        [52, 58,  1, 58, 46, 39, 58,  1],\n",
      "        [25, 17, 27, 10,  0, 21,  1, 54]])\n",
      "targets:\n",
      "tensor([[43, 58,  5, 57,  1, 46, 43, 39],\n",
      "        [53, 56,  1, 58, 46, 39, 58,  1],\n",
      "        [58,  1, 58, 46, 39, 58,  1, 46],\n",
      "        [17, 27, 10,  0, 21,  1, 54, 39]])\n",
      "when input is [24] the target: 43\n",
      "when input is [24, 43] the target: 58\n",
      "when input is [24, 43, 58] the target: 5\n",
      "when input is [24, 43, 58, 5] the target: 57\n",
      "when input is [24, 43, 58, 5, 57] the target: 1\n",
      "when input is [24, 43, 58, 5, 57, 1] the target: 46\n",
      "when input is [24, 43, 58, 5, 57, 1, 46] the target: 43\n",
      "when input is [24, 43, 58, 5, 57, 1, 46, 43] the target: 39\n",
      "when input is [44] the target: 53\n",
      "when input is [44, 53] the target: 56\n",
      "when input is [44, 53, 56] the target: 1\n",
      "when input is [44, 53, 56, 1] the target: 58\n",
      "when input is [44, 53, 56, 1, 58] the target: 46\n",
      "when input is [44, 53, 56, 1, 58, 46] the target: 39\n",
      "when input is [44, 53, 56, 1, 58, 46, 39] the target: 58\n",
      "when input is [44, 53, 56, 1, 58, 46, 39, 58] the target: 1\n",
      "when input is [52] the target: 58\n",
      "when input is [52, 58] the target: 1\n",
      "when input is [52, 58, 1] the target: 58\n",
      "when input is [52, 58, 1, 58] the target: 46\n",
      "when input is [52, 58, 1, 58, 46] the target: 39\n",
      "when input is [52, 58, 1, 58, 46, 39] the target: 58\n",
      "when input is [52, 58, 1, 58, 46, 39, 58] the target: 1\n",
      "when input is [52, 58, 1, 58, 46, 39, 58, 1] the target: 46\n",
      "when input is [25] the target: 17\n",
      "when input is [25, 17] the target: 27\n",
      "when input is [25, 17, 27] the target: 10\n",
      "when input is [25, 17, 27, 10] the target: 0\n",
      "when input is [25, 17, 27, 10, 0] the target: 21\n",
      "when input is [25, 17, 27, 10, 0, 21] the target: 1\n",
      "when input is [25, 17, 27, 10, 0, 21, 1] the target: 54\n",
      "when input is [25, 17, 27, 10, 0, 21, 1, 54] the target: 39\n"
     ]
    }
   ],
   "source": [
    "torch.manual_seed(1337)\n",
    "batch_size = 4 \n",
    "block_size = 8\n",
    "def get_batch(split):\n",
    "    data = train if split == 'train' else valid\n",
    "    ix = torch.randint(len(data) - block_size, (batch_size, ))\n",
    "    x = torch.stack([data[i:i+block_size] for i in ix])\n",
    "    y = torch.stack([data[i + 1:i+block_size + 1] for i in ix])\n",
    "    return x, y\n",
    "\n",
    "xb, yb = get_batch('train')\n",
    "print(\"inputs:\")\n",
    "print(xb)\n",
    "print(\"targets:\")\n",
    "print(yb)\n",
    "\n",
    "for b in range(batch_size):\n",
    "    for t in range(block_size):\n",
    "        context = xb[b, :t+1]\n",
    "        target = yb[b,t]\n",
    "        print(f\"when input is {context.tolist()} the target: {target}\")"
   ]
  },
  {
   "cell_type": "code",
   "execution_count": 10,
   "metadata": {},
   "outputs": [
    {
     "name": "stdout",
     "output_type": "stream",
     "text": [
      "tensor(4.8786, grad_fn=<NllLossBackward0>)\n",
      "\n",
      "Sr?qP-QWktXoL&jLDJgOLVz'RIoDqHdhsV&vLLxatjscMpwLERSPyao.qfzs$Ys$zF-w,;eEkzxjgCKFChs!iWW.ObzDnxA Ms$3\n"
     ]
    }
   ],
   "source": [
    "import torch\n",
    "import torch.nn as nn\n",
    "from torch.nn import functional as F\n",
    "torch.manual_seed(1337)\n",
    "\n",
    "class BigramLanguageModel(nn.Module):\n",
    "    def __init__(self, vocab_size):\n",
    "        super().__init__()\n",
    "        self.token_embedding_table = nn.Embedding(vocab_size, vocab_size)\n",
    "    \n",
    "    def forward(self, idx, targets = None):\n",
    "        logits = self.token_embedding_table(idx)\n",
    "        if targets == None:\n",
    "            loss = None\n",
    "        else:\n",
    "            #B, T, C are batch time and channel\n",
    "            B, T, C = logits.shape\n",
    "            #This is to reshape it as B, C, T as thats how pytorch wants it\n",
    "            logits = logits.view(B*T, C)\n",
    "            targets = targets.view(B*T)\n",
    "            loss = F.cross_entropy(logits, targets)\n",
    "        \n",
    "        return logits, loss\n",
    "    \n",
    "    def generate(self, idx, max_new_tokens):\n",
    "        for _ in range(max_new_tokens):\n",
    "            logits, loss = self(idx)\n",
    "            #This will only take the last target value from B, C, T\n",
    "            logits = logits[:, -1, :]\n",
    "            #Apply softmax and get the probabilities\n",
    "            prob = F.softmax(logits, dim=-1)#B, C\n",
    "            #this is to sample from the distribution\n",
    "            idx_next = torch.multinomial(prob, num_samples=1)#B, 1\n",
    "            #This will append the sampled index into the running sequence so from B, T you will get B, T+1 T+2 T+3 and so on\n",
    "            idx = torch.cat((idx, idx_next), dim=1)#B, T+1\n",
    "        return idx\n",
    "\n",
    "m = BigramLanguageModel(vocab_size)\n",
    "logits, loss = m(xb, yb)\n",
    "print(loss)\n",
    "#Here we start from a tensor or 0,0 so basically start from 0 and then generate so on\n",
    "print(decoded(m.generate(idx = torch.zeros((1, 1), dtype=torch.long), max_new_tokens=100)[0].tolist()))\n",
    "\n"
   ]
  },
  {
   "cell_type": "code",
   "execution_count": 11,
   "metadata": {},
   "outputs": [],
   "source": [
    "#ADAMW is a good optimizer for llms and stuff\n",
    "optimizer = torch.optim.AdamW(m.parameters(), lr=1e-3)"
   ]
  },
  {
   "cell_type": "code",
   "execution_count": 12,
   "metadata": {},
   "outputs": [
    {
     "name": "stdout",
     "output_type": "stream",
     "text": [
      "2.5727508068084717\n"
     ]
    }
   ],
   "source": [
    "batch_size = 32\n",
    "#simple training loop of 10000 iterations\n",
    "for steps in range(10000):\n",
    "    xb, yb = get_batch('train')\n",
    "    logits, loss = m(xb, yb)\n",
    "    optimizer.zero_grad(set_to_none=True)\n",
    "    loss.backward()\n",
    "    optimizer.step()\n",
    "\n",
    "print(loss.item())"
   ]
  },
  {
   "cell_type": "code",
   "execution_count": 13,
   "metadata": {},
   "outputs": [
    {
     "name": "stdout",
     "output_type": "stream",
     "text": [
      "\n",
      "Iyoteng h hasbe pave pirance\n",
      "Rie hicomyonthar's\n",
      "Plinseard ith henoure wounonthioneir thondy, y heltieiengerofo'dsssit ey\n",
      "KIN d pe wither vouprrouthercc.\n",
      "hathe; d!\n",
      "My hind tt hinig t ouchos tes; st yo hind wotte grotonear 'so it t jod weancotha:\n",
      "h hay.JUCle n prids, r loncave w hollular s O:\n",
      "HIs; ht anjx?\n",
      "\n",
      "DUThinqunt.\n",
      "\n",
      "LaZAnde.\n",
      "athave l.\n",
      "KEONH:\n",
      "ARThanco be y,-hedarwnoddy scace, tridesar, wnl'shenous s ls, theresseys\n",
      "PlorseelapinghiybHen yof GLUCEN t l-t E:\n",
      "I hisgothers je are!-e!\n",
      "QLYotouciullle'z\n"
     ]
    }
   ],
   "source": [
    "#as we can see the decoded predicted values are much better than whatever sequence we got above\n",
    "print(decoded(m.generate(idx = torch.zeros((1, 1), dtype=torch.long), max_new_tokens=500)[0].tolist()))"
   ]
  },
  {
   "cell_type": "code",
   "execution_count": 14,
   "metadata": {},
   "outputs": [
    {
     "name": "stdout",
     "output_type": "stream",
     "text": [
      "a = \n",
      "tensor([[1.0000, 0.0000, 0.0000],\n",
      "        [0.5000, 0.5000, 0.0000],\n",
      "        [0.3333, 0.3333, 0.3333]])\n",
      "b = \n",
      "tensor([[2., 7.],\n",
      "        [6., 4.],\n",
      "        [6., 5.]])\n",
      "c = \n",
      "tensor([[2.0000, 7.0000],\n",
      "        [4.0000, 5.5000],\n",
      "        [4.6667, 5.3333]])\n"
     ]
    }
   ],
   "source": [
    "#this entire proccess is done as its more efficient than for loops, here basically current token interacts with all tokens before it to predict the next one and we use matrix multiplication instead of for loop\n",
    "torch.manual_seed(42)\n",
    "a = torch.tril(torch.ones(3, 3))#creates triangular matrix\n",
    "a /= torch.sum(a, 1, keepdim=True)\n",
    "b = torch.randint(0, 10, (3, 2)).float()\n",
    "c = a @ b\n",
    "print(\"a = \")\n",
    "print(a)\n",
    "print(\"b = \")\n",
    "print(b)\n",
    "print(\"c = \")\n",
    "print(c)"
   ]
  },
  {
   "cell_type": "code",
   "execution_count": 15,
   "metadata": {},
   "outputs": [],
   "source": [
    "torch.manual_seed(42)\n",
    "B, T, C = 4, 8, 2\n",
    "x = torch.randn(B, T, C)\n"
   ]
  },
  {
   "cell_type": "code",
   "execution_count": 16,
   "metadata": {},
   "outputs": [],
   "source": [
    "xbow = torch.zeros((B, T, C))\n",
    "for b in range(B):\n",
    "    for t in range(T):\n",
    "        xprev = x[b, :t+1]#this takes all the tokens before the current token\n",
    "        xbow[b, t] = torch.mean(xprev, 0)"
   ]
  },
  {
   "cell_type": "code",
   "execution_count": 17,
   "metadata": {},
   "outputs": [
    {
     "data": {
      "text/plain": [
       "True"
      ]
     },
     "execution_count": 17,
     "metadata": {},
     "output_type": "execute_result"
    }
   ],
   "source": [
    "#this is same thing as above except instead of taking the token as it is we take the weights and multiply\n",
    "weights = torch.tril(torch.ones(T, T))\n",
    "weights = weights/ weights.sum(1, keepdim=True)\n",
    "xbow2 = weights @ x\n",
    "torch.allclose(xbow, xbow2)#checks if xbow and xbow2 are same"
   ]
  },
  {
   "cell_type": "code",
   "execution_count": 18,
   "metadata": {},
   "outputs": [
    {
     "data": {
      "text/plain": [
       "True"
      ]
     },
     "execution_count": 18,
     "metadata": {},
     "output_type": "execute_result"
    }
   ],
   "source": [
    "#here we do the same as above except we use softmax which is basically taking the exponent and then normalising it out\n",
    "tril = torch.tril(torch.ones(T, T))\n",
    "weights = torch.zeros((T, T))\n",
    "weights = weights.masked_fill(tril == 0, float('-inf'))#here basically if there is a 0 in the matrix replace it with -infinity so that we can take the exponential and future cant communicate with the past\n",
    "weights = F.softmax(weights, dim=-1)\n",
    "xbow3 = weights @ x\n",
    "torch.allclose(xbow, xbow3)"
   ]
  },
  {
   "cell_type": "code",
   "execution_count": 19,
   "metadata": {},
   "outputs": [
    {
     "data": {
      "text/plain": [
       "tensor([[1., 0., 0., 0., 0., 0., 0., 0.],\n",
       "        [1., 1., 0., 0., 0., 0., 0., 0.],\n",
       "        [1., 1., 1., 0., 0., 0., 0., 0.],\n",
       "        [1., 1., 1., 1., 0., 0., 0., 0.],\n",
       "        [1., 1., 1., 1., 1., 0., 0., 0.],\n",
       "        [1., 1., 1., 1., 1., 1., 0., 0.],\n",
       "        [1., 1., 1., 1., 1., 1., 1., 0.],\n",
       "        [1., 1., 1., 1., 1., 1., 1., 1.]])"
      ]
     },
     "execution_count": 19,
     "metadata": {},
     "output_type": "execute_result"
    }
   ],
   "source": [
    "tril"
   ]
  },
  {
   "cell_type": "code",
   "execution_count": 20,
   "metadata": {},
   "outputs": [
    {
     "data": {
      "text/plain": [
       "tensor([[1.0000, 0.0000, 0.0000, 0.0000, 0.0000, 0.0000, 0.0000, 0.0000],\n",
       "        [0.5000, 0.5000, 0.0000, 0.0000, 0.0000, 0.0000, 0.0000, 0.0000],\n",
       "        [0.3333, 0.3333, 0.3333, 0.0000, 0.0000, 0.0000, 0.0000, 0.0000],\n",
       "        [0.2500, 0.2500, 0.2500, 0.2500, 0.0000, 0.0000, 0.0000, 0.0000],\n",
       "        [0.2000, 0.2000, 0.2000, 0.2000, 0.2000, 0.0000, 0.0000, 0.0000],\n",
       "        [0.1667, 0.1667, 0.1667, 0.1667, 0.1667, 0.1667, 0.0000, 0.0000],\n",
       "        [0.1429, 0.1429, 0.1429, 0.1429, 0.1429, 0.1429, 0.1429, 0.0000],\n",
       "        [0.1250, 0.1250, 0.1250, 0.1250, 0.1250, 0.1250, 0.1250, 0.1250]])"
      ]
     },
     "execution_count": 20,
     "metadata": {},
     "output_type": "execute_result"
    }
   ],
   "source": [
    "weights"
   ]
  },
  {
   "attachments": {
    "image.png": {
     "image/png": "[encoded data removed]"
    }
   },
   "cell_type": "markdown",
   "metadata": {},
   "source": [
    "- from above we can see that the values in each row are uniform which isnt good because it means we're giving same importance to all tokens. self attention solves this issue by giving more importance to 1 token over others etc\n",
    "- the way self attention actually solves this is that each token is given a key and query. Query is basically what the token wants and key is what the token contains and the value is the best match to the current token\n",
    "- the weight is the dot product of key and query which basically gives the affinity or attention to be given to that token\n",
    "- a head is basically a mini-brain that helps the model selectively focus on certain aspects of the input data\n",
    "- one thing to note is the elements across the batch dimension do not interfere with each other\n",
    "- but in some cases you may want all tokens to interact with each other that is past and future tokens can interact. this is in case of things such as sentiment analysis where you want to see if something is good or bad with respect to the entire context and not just the past and present\n",
    ". in these cases you can just delete the tril part of the code because it means all tokens can interact with each other\n",
    "- in self attention the same token produces keys, queries and values but in case of cross attention queries can be produced from 1 nodes and keys and values are produced by other nodes\n",
    "- after getting the weight we must scale them or else it will be in order of the head size which is why we divide the weight by the square root of head size, in order to get it in 0-1 range. if you dont do this then softmax will give very extreme values\n",
    "- ![image.png](attachment:image.png)\n",
    "- multi-head attention is basically many self-attention heads working in parallel\n",
    "- feed forward is basically the thinking part of the attention mechanism"
   ]
  },
  {
   "cell_type": "code",
   "execution_count": 21,
   "metadata": {},
   "outputs": [
    {
     "data": {
      "text/plain": [
       "tensor([[[-2.8991e-01,  8.6736e-01,  1.5501e-01, -6.5131e-01, -2.7023e-01,\n",
       "           7.8589e-01,  5.7559e-02, -4.9535e-01, -9.7129e-01,  3.4192e-01,\n",
       "           1.8012e-01, -7.4462e-01, -3.9583e-01, -5.3873e-01,  4.4231e-01,\n",
       "           5.4113e-01],\n",
       "         [ 5.4365e-01, -5.6043e-01, -2.5430e-01,  4.4537e-01, -2.5532e-01,\n",
       "          -2.5607e-01, -4.7274e-01, -8.0318e-02, -1.3331e-01,  8.7804e-01,\n",
       "           7.1691e-01, -2.6675e-01,  4.1206e-01,  2.9041e-01,  8.5100e-02,\n",
       "           1.2417e+00],\n",
       "         [ 3.4949e-01, -1.1961e-01, -4.1205e-01,  3.0803e-01,  3.0768e-02,\n",
       "          -1.3053e-01, -2.6905e-02,  5.0101e-02, -3.3306e-01, -2.2600e-01,\n",
       "           2.8263e-01,  1.2588e-02, -2.0410e-01, -1.2035e-01,  1.4451e-02,\n",
       "           1.1896e+00],\n",
       "         [ 6.4300e-02,  2.7288e-01, -1.3678e-01, -1.3444e-01, -6.0558e-02,\n",
       "           2.3449e-01, -1.5048e-02, -2.1652e-01, -5.4869e-01,  2.2054e-01,\n",
       "           1.5680e-01, -3.5360e-01, -1.6247e-01, -2.1488e-01,  3.5082e-01,\n",
       "           7.3793e-01],\n",
       "         [ 1.1827e-01,  7.2184e-01,  5.8735e-01,  3.8266e-01,  1.3330e-01,\n",
       "           7.9734e-01,  5.1634e-01,  3.8246e-01, -6.7740e-01, -9.2950e-01,\n",
       "          -3.0714e-01, -4.2845e-01, -8.2000e-01,  7.9067e-02,  1.7897e-02,\n",
       "           6.0729e-01],\n",
       "         [ 2.0999e-01,  4.8332e-01,  4.6597e-01,  4.3385e-01,  5.7060e-02,\n",
       "           6.2058e-01,  3.3932e-01,  3.2380e-01, -5.7371e-01, -6.1926e-01,\n",
       "          -1.1325e-01, -4.0449e-01, -6.0379e-01,  1.4520e-01,  4.7284e-03,\n",
       "           7.3673e-01],\n",
       "         [ 5.3806e-02, -1.0908e-01, -1.4951e-01,  4.3694e-01, -4.3897e-02,\n",
       "           3.2270e-02, -2.4784e-01, -1.2491e-01, -1.6028e-01,  4.7814e-01,\n",
       "           3.1292e-01, -7.3736e-02,  1.8466e-01,  1.1286e-01,  3.5353e-01,\n",
       "           7.3263e-01],\n",
       "         [-2.6465e-03, -4.5559e-02, -5.0296e-01,  4.1760e-01,  1.4308e-01,\n",
       "          -2.2444e-01, -1.1688e-01,  4.0717e-01, -9.4468e-03,  1.8508e-01,\n",
       "           1.8652e-02,  1.6901e-01,  3.8467e-01, -2.1804e-01,  1.1744e-01,\n",
       "           3.0762e-01]],\n",
       "\n",
       "        [[-1.4582e+00,  1.1108e+00,  2.2276e-01, -1.6862e-01, -1.3497e-01,\n",
       "           8.3278e-01,  8.5269e-01,  4.2509e-01, -7.5016e-01, -6.7192e-02,\n",
       "          -1.3500e+00,  2.6209e-01,  1.0455e+00, -1.1333e+00, -2.4144e-01,\n",
       "          -4.7425e-01],\n",
       "         [-5.1615e-01, -2.0931e-01,  8.1950e-02,  3.1667e-01, -2.1435e-01,\n",
       "           1.7153e-01,  2.6528e-01, -2.1490e-01, -2.7798e-01,  1.3361e-01,\n",
       "           4.8834e-01,  3.9174e-01,  6.5006e-02, -4.7741e-01, -7.8555e-02,\n",
       "          -4.9451e-01],\n",
       "         [-1.2428e+00,  3.1062e-01,  4.6404e-01,  6.7481e-02,  1.2710e-01,\n",
       "           1.9265e-01,  2.0874e-01,  2.9146e-01,  1.9513e-01,  1.4808e-01,\n",
       "          -2.8923e-02,  3.3155e-01,  8.2972e-01, -2.5195e-01,  4.2741e-01,\n",
       "          -1.1573e-01],\n",
       "         [-1.1047e+00,  4.4851e-01,  4.1698e-01,  1.1385e-01,  3.1131e-02,\n",
       "           4.5088e-01,  3.6452e-01,  2.7841e-01, -1.3435e-01,  1.5540e-01,\n",
       "          -3.9457e-01,  2.8515e-01,  7.8826e-01, -4.8355e-01,  1.8276e-01,\n",
       "          -2.3154e-01],\n",
       "         [ 2.0308e-01, -9.8641e-02,  9.3010e-01,  9.0419e-01,  5.3034e-02,\n",
       "           8.6767e-01, -1.1230e-01,  3.1673e-01,  3.3315e-02,  8.3573e-01,\n",
       "          -5.4543e-02, -2.3105e-02,  3.8321e-01,  1.4050e-01,  3.1263e-01,\n",
       "          -3.9157e-02],\n",
       "         [ 3.7060e-02,  1.8266e-02,  8.0906e-01,  7.4787e-01, -2.3051e-02,\n",
       "           7.8486e-01, -2.0050e-02,  3.3431e-01, -2.5863e-02,  7.2246e-01,\n",
       "          -4.1318e-02,  1.4938e-04,  4.1442e-01,  4.2433e-03,  2.5918e-01,\n",
       "          -1.2903e-01],\n",
       "         [-8.6279e-02,  1.4492e-01,  3.9109e-01,  3.0727e-01, -3.3902e-01,\n",
       "           2.7278e-01, -1.0521e-01,  2.4585e-01, -9.1899e-02,  6.0513e-01,\n",
       "           3.4744e-01, -2.0599e-01,  4.2268e-01, -4.2865e-01,  1.4593e-01,\n",
       "          -4.8792e-01],\n",
       "         [-6.7174e-01,  7.4282e-01,  3.2383e-01, -2.7416e-02, -3.9474e-01,\n",
       "           4.7408e-01,  3.3460e-01,  5.8653e-01, -2.6772e-01,  3.1063e-01,\n",
       "          -2.0646e-01, -9.4572e-02,  7.1726e-01, -7.0158e-01,  5.9991e-02,\n",
       "          -5.3736e-01]],\n",
       "\n",
       "        [[-6.3851e-02,  1.2120e+00, -4.1844e-01, -3.9381e-02, -8.1958e-01,\n",
       "          -2.5287e-01,  1.2273e+00, -6.5736e-01,  3.5395e-01, -1.1241e-01,\n",
       "           1.1924e-01,  1.0173e+00, -6.3597e-01, -1.2836e+00,  9.9429e-01,\n",
       "          -5.8972e-01],\n",
       "         [-5.9653e-01,  6.2535e-01, -1.6493e-01, -2.0161e-03, -7.2136e-01,\n",
       "          -4.6461e-01,  1.8977e-01, -2.9267e-01,  3.7378e-01, -3.4655e-02,\n",
       "           1.9611e-01,  2.2530e-01, -2.7363e-01, -8.2536e-01,  5.0644e-01,\n",
       "           3.9838e-02],\n",
       "         [-7.7322e-01,  1.2558e-01, -6.7511e-02,  1.9959e-02, -5.7962e-01,\n",
       "          -5.8357e-01, -2.1342e-01, -2.2090e-01,  4.2267e-01,  5.4805e-02,\n",
       "           4.8710e-01, -5.5375e-02, -2.1268e-01, -4.1812e-01,  5.5065e-01,\n",
       "           3.8527e-01],\n",
       "         [-8.0470e-01,  1.1243e-01,  6.6881e-02, -8.9963e-04, -3.0613e-01,\n",
       "          -5.2826e-01, -7.2538e-01,  7.9436e-02,  2.4648e-01,  2.2949e-01,\n",
       "           7.1979e-02, -3.9077e-01,  1.8549e-02, -2.3685e-01,  1.0256e-01,\n",
       "           4.2127e-01],\n",
       "         [-1.4705e-01,  1.0068e+00, -3.5442e-01, -3.3131e-02, -6.8580e-01,\n",
       "          -2.8543e-01,  9.5092e-01, -5.4032e-01,  3.1695e-01, -2.9985e-02,\n",
       "           1.2252e-01,  8.3668e-01, -5.5516e-01, -1.0848e+00,  8.8928e-01,\n",
       "          -4.6152e-01],\n",
       "         [-7.7135e-01, -8.9260e-02, -3.7160e-01,  3.0889e-01, -1.9276e-01,\n",
       "          -3.1244e-01,  3.6469e-02,  2.0243e-01,  2.8273e-01,  1.0895e-01,\n",
       "           2.5318e-01,  3.3203e-01, -1.2754e-01, -3.4766e-01,  5.0357e-01,\n",
       "          -2.0097e-01],\n",
       "         [-3.5643e-01, -6.8044e-02, -1.8946e-01,  3.7366e-01,  1.2623e-01,\n",
       "          -1.2240e-01, -2.8220e-01,  3.6102e-01,  1.9017e-02,  4.1192e-01,\n",
       "          -4.6713e-02,  2.1911e-01,  3.5557e-02,  5.9228e-02,  2.7360e-01,\n",
       "          -2.8063e-01],\n",
       "         [-3.8099e-01,  1.3572e-01, -3.5684e-01,  3.0209e-01,  3.8795e-02,\n",
       "          -1.6729e-01,  4.3511e-02,  1.1701e-01,  1.2785e-01,  4.0930e-01,\n",
       "           5.9103e-02,  2.7632e-01, -1.1901e-01, -2.2647e-01,  5.4506e-01,\n",
       "           2.1869e-02]],\n",
       "\n",
       "        [[-3.5593e-02,  4.4575e-02, -1.1118e-01,  8.4422e-02, -2.6740e-01,\n",
       "          -8.0212e-01, -1.7937e-01, -6.4606e-01, -2.9943e-01,  1.2506e+00,\n",
       "           2.3823e-01, -1.1776e-01, -9.9795e-02,  9.5056e-02, -4.5437e-01,\n",
       "           1.5093e+00],\n",
       "         [ 6.0279e-02, -2.2304e-01, -3.5308e-01,  3.3675e-01, -3.0532e-01,\n",
       "          -7.0691e-01, -6.8739e-01, -6.6323e-01, -2.8961e-01,  8.5538e-01,\n",
       "           2.4027e-01, -1.4937e-01, -8.4736e-02,  5.9289e-02, -5.5457e-01,\n",
       "           1.2133e+00],\n",
       "         [ 1.5836e-01, -4.9616e-01, -5.9905e-01,  5.9585e-01, -3.4566e-01,\n",
       "          -6.0546e-01, -1.2058e+00, -6.8134e-01, -2.8106e-01,  4.4387e-01,\n",
       "           2.4065e-01, -1.8141e-01, -6.9295e-02,  2.4412e-02, -6.5529e-01,\n",
       "           9.0592e-01],\n",
       "         [ 4.2712e-02, -4.6986e-02, -2.1174e-01,  1.5872e-01, -3.4046e-01,\n",
       "          -5.2109e-01, -3.9585e-01, -5.9863e-01, -3.8440e-01,  6.1186e-01,\n",
       "           1.5400e-01, -1.3132e-01, -6.1050e-02,  1.1946e-01, -4.6952e-01,\n",
       "           1.0423e+00],\n",
       "         [ 4.0765e-02, -1.9235e-01, -2.8525e-01,  2.5176e-02, -2.5686e-01,\n",
       "          -3.1173e-01, -6.0142e-01, -3.5779e-01, -3.8122e-01,  1.8462e-01,\n",
       "           1.7788e-01, -9.4463e-02,  1.3405e-02, -3.9559e-02, -5.1103e-01,\n",
       "           5.1243e-01],\n",
       "         [ 1.1401e-01, -4.8546e-01, -5.3477e-01,  4.4320e-01, -3.0262e-01,\n",
       "          -4.4722e-01, -1.1654e+00, -5.1337e-01, -2.8544e-01,  1.9135e-01,\n",
       "           2.2626e-01, -1.7974e-01, -8.9406e-03, -2.6367e-02, -6.3118e-01,\n",
       "           5.9850e-01],\n",
       "         [-5.3061e-01,  2.4643e-01,  4.9707e-01, -3.3757e-01, -1.4936e-01,\n",
       "          -2.8328e-01, -1.6890e-01,  1.3493e-01,  5.2150e-02,  3.2905e-01,\n",
       "           1.0786e-01, -7.7576e-01,  4.7446e-01,  2.8416e-01, -3.9533e-01,\n",
       "           4.9260e-01],\n",
       "         [-4.9205e-01,  2.1208e-02, -3.6367e-02, -1.9114e-02, -1.3337e-01,\n",
       "          -2.6598e-02, -4.3971e-01, -3.1843e-02, -6.5953e-01, -1.4032e-01,\n",
       "           1.5294e-01, -2.2536e-01,  1.5864e-01, -1.0015e-01, -4.8787e-01,\n",
       "           2.5574e-01]]], grad_fn=<UnsafeViewBackward0>)"
      ]
     },
     "execution_count": 21,
     "metadata": {},
     "output_type": "execute_result"
    }
   ],
   "source": [
    "#self attention approach\n",
    "torch.manual_seed(1337)\n",
    "B, T, C = 4, 8, 32\n",
    "x = torch.randn(B, T, C)\n",
    "\n",
    "head_size = 16\n",
    "key = nn.Linear(C, head_size, bias=False)\n",
    "query = nn.Linear(C, head_size, bias=False)\n",
    "value = nn.Linear(C, head_size, bias=True)\n",
    "k = key(x) #B, T, 16\n",
    "q = query(x) #B, T, 16\n",
    "\n",
    "weights = q @ k.transpose(-2, -1) # (B, T, 16) @ (B, 16, T) ---> (B, T, T)\n",
    "tril = torch.tril(torch.ones(T, T))\n",
    "weights = weights.masked_fill(tril == 0, float('-inf'))\n",
    "weights = F.softmax(weights, dim=-1)\n",
    "\n",
    "v = value(x)\n",
    "out = weights @ v\n",
    "\n",
    "out"
   ]
  },
  {
   "cell_type": "code",
   "execution_count": 23,
   "metadata": {},
   "outputs": [
    {
     "name": "stdout",
     "output_type": "stream",
     "text": [
      "tensor(2.5728, grad_fn=<NllLossBackward0>)\n"
     ]
    }
   ],
   "source": [
    "print(loss)"
   ]
  },
  {
   "cell_type": "markdown",
   "metadata": {},
   "source": [
    "- residual block is important as it helps improve computation. basically you take a fork of the input perform the computation and send the output back to the residual pathway. residual pathway is just the input->target path\n",
    "- we must also add a dropout layer at the end so that its more efficient and reduces overfitting"
   ]
  },
  {
   "cell_type": "code",
   "execution_count": 27,
   "metadata": {},
   "outputs": [],
   "source": [
    "k = torch.randn(B, T, head_size)\n",
    "q = torch.randn(B, T, head_size)\n",
    "weights = q @ k.transpose(-2, -1)*head_size**-0.5"
   ]
  },
  {
   "cell_type": "code",
   "execution_count": 31,
   "metadata": {},
   "outputs": [
    {
     "data": {
      "text/plain": [
       "tensor(0.8793)"
      ]
     },
     "execution_count": 31,
     "metadata": {},
     "output_type": "execute_result"
    }
   ],
   "source": [
    "k.var()"
   ]
  },
  {
   "cell_type": "code",
   "execution_count": 29,
   "metadata": {},
   "outputs": [
    {
     "data": {
      "text/plain": [
       "tensor(1.0217)"
      ]
     },
     "execution_count": 29,
     "metadata": {},
     "output_type": "execute_result"
    }
   ],
   "source": [
    "q.var()"
   ]
  },
  {
   "cell_type": "code",
   "execution_count": 30,
   "metadata": {},
   "outputs": [
    {
     "data": {
      "text/plain": [
       "tensor(1.0032)"
      ]
     },
     "execution_count": 30,
     "metadata": {},
     "output_type": "execute_result"
    }
   ],
   "source": [
    "weights.var()"
   ]
  },
  {
   "cell_type": "code",
   "execution_count": 33,
   "metadata": {},
   "outputs": [
    {
     "data": {
      "text/plain": [
       "tensor([[ 0.1335, -0.1059, -0.3824,  ..., -1.3422, -0.1971,  0.8795],\n",
       "        [-0.0353, -0.7439, -0.3371,  ..., -0.6276, -0.4846,  0.4556],\n",
       "        [ 0.3069, -1.5010,  1.4898,  ..., -0.6819,  0.9993,  0.8382],\n",
       "        ...,\n",
       "        [-1.6080, -1.6324, -0.7634,  ..., -0.9847,  0.0039, -0.8610],\n",
       "        [-0.2273,  0.0066, -0.2763,  ..., -0.8705, -1.2442, -0.7531],\n",
       "        [ 0.3054, -0.1505, -0.3809,  ..., -1.4962, -0.7711, -1.0681]])"
      ]
     },
     "execution_count": 33,
     "metadata": {},
     "output_type": "execute_result"
    }
   ],
   "source": [
    "#the below code is for batch layer normalisation which is basically batch normalisation but instead of columns we normalise rows\n",
    "from typing import Any\n",
    "\n",
    "\n",
    "class LayerNorm1d:\n",
    "    def __init__(self, dim, eps=1e-5, momentum=0.1):\n",
    "        self.eps = eps\n",
    "        self.gamma = torch.ones(dim)\n",
    "        self.beta = torch.zeros(dim)\n",
    "    \n",
    "    def __call__(self, x):\n",
    "        xmean = x.mean(1, keepdim=True)#batch mean\n",
    "        xvar = x.var(1, keepdim=True)#batch variance\n",
    "        xhat = (x - xmean) / torch.sqrt(xvar + self.eps)#normalise to unit variance\n",
    "        self.out = self.gamma * xhat + self.beta\n",
    "        return self.out\n",
    "    \n",
    "    def parameters(self):\n",
    "        return [self.gamma, self.beta]\n",
    "    \n",
    "torch.manual_seed(1337)\n",
    "module = LayerNorm1d(100)\n",
    "x = torch.randn(32, 100)#batch size 32 of 100 dimensional vectors\n",
    "x = module(x)\n",
    "x"
   ]
  },
  {
   "cell_type": "code",
   "execution_count": 35,
   "metadata": {},
   "outputs": [
    {
     "data": {
      "text/plain": [
       "(tensor(0.1469), tensor(0.8803))"
      ]
     },
     "execution_count": 35,
     "metadata": {},
     "output_type": "execute_result"
    }
   ],
   "source": [
    "x[:, 0].mean(), x[:, 0].std() #mean, std dev of one feature across all batch inputs"
   ]
  },
  {
   "cell_type": "code",
   "execution_count": 38,
   "metadata": {},
   "outputs": [
    {
     "data": {
      "text/plain": [
       "(tensor(-9.5367e-09), tensor(1.0000))"
      ]
     },
     "execution_count": 38,
     "metadata": {},
     "output_type": "execute_result"
    }
   ],
   "source": [
    "x[0, :].mean(), x[0, :].std() #mean, std dev of a single input from the batch of its features\n",
    "#this wont give you the exact predicted output (as in the sentences may not make sense) but it should give you a shakespearian like language"
   ]
  },
  {
   "cell_type": "markdown",
   "metadata": {},
   "source": [
    "- note that this is a decoder model which basically means it just gives some random output based on input\n",
    "- in an encoder-decoder model, the input is encoded the computed then decoded (for example language translation)\n",
    "- in the encoder-decoder model there is no triangular mask so the tokens can freely interact with each other which is required to make senseful sentences"
   ]
  }
 ],
 "metadata": {
  "kernelspec": {
   "display_name": ".venv",
   "language": "python",
   "name": "python3"
  },
  "language_info": {
   "codemirror_mode": {
    "name": "ipython",
    "version": 3
   },
   "file_extension": ".py",
   "mimetype": "text/x-python",
   "name": "python",
   "nbconvert_exporter": "python",
   "pygments_lexer": "ipython3",
   "version": "3.11.5"
  }
 },
 "nbformat": 4,
 "nbformat_minor": 2
}
